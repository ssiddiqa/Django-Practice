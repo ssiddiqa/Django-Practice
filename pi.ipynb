{
  "nbformat": 4,
  "nbformat_minor": 0,
  "metadata": {
    "colab": {
      "provenance": [],
      "authorship_tag": "ABX9TyOFEeSCfrwUT8lzAJEKjtXw",
      "include_colab_link": true
    },
    "kernelspec": {
      "name": "python3",
      "display_name": "Python 3"
    },
    "language_info": {
      "name": "python"
    }
  },
  "cells": [
    {
      "cell_type": "markdown",
      "metadata": {
        "id": "view-in-github",
        "colab_type": "text"
      },
      "source": [
        "<a href=\"https://colab.research.google.com/github/ssiddiqa/Django-Practice/blob/main/pi.ipynb\" target=\"_parent\"><img src=\"https://colab.research.google.com/assets/colab-badge.svg\" alt=\"Open In Colab\"/></a>"
      ]
    },
    {
      "cell_type": "code",
      "execution_count": 9,
      "metadata": {
        "id": "KNffdb-3QdLl",
        "colab": {
          "base_uri": "https://localhost:8080/"
        },
        "outputId": "1a061e51-a01b-4d8b-bf7d-18b5887ba34b"
      },
      "outputs": [
        {
          "output_type": "stream",
          "name": "stdout",
          "text": [
            "Congratulations!! Your desired Pi values have been successfully saved to output.csv!\n"
          ]
        }
      ],
      "source": [
        "from mpmath import mp\n",
        "import pandas as pd\n",
        "\n",
        "def print_pi_to_n_digits(n):\n",
        "    # Set precision to n decimal places\n",
        "    mp.dps = n + 1  # Adding 1 to account for the \"3.\" before the decimals\n",
        "    # Return pi to n decimal places as a string\n",
        "    return str(mp.pi)\n",
        "\n",
        "# Load the input data\n",
        "df = pd.read_csv(\"input.csv\")\n",
        "\n",
        "pi_val_list = []\n",
        "\n",
        "# Calculate pi to the specified number of decimal places for each value in the dataframe\n",
        "for i in df:  # Assuming values are in the first column\n",
        "    pi_val_list.append(print_pi_to_n_digits(int(i)))\n",
        "\n",
        "# Create a DataFrame from the list of Pi values\n",
        "output_df = pd.DataFrame(pi_val_list, columns=[\"PI\"])\n",
        "\n",
        "# Save the output to a CSV file\n",
        "output_df.to_csv('output.csv', index=False)\n",
        "\n",
        "print(\"Congratulations!! Your desired Pi values have been successfully saved to output.csv!\")\n"
      ]
    }
  ]
}