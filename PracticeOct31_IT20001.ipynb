{
  "nbformat": 4,
  "nbformat_minor": 0,
  "metadata": {
    "colab": {
      "provenance": [],
      "authorship_tag": "ABX9TyO3ZiuGSRlcylWzSmVdiWDW",
      "include_colab_link": true
    },
    "kernelspec": {
      "name": "python3",
      "display_name": "Python 3"
    },
    "language_info": {
      "name": "python"
    }
  },
  "cells": [
    {
      "cell_type": "markdown",
      "metadata": {
        "id": "view-in-github",
        "colab_type": "text"
      },
      "source": [
        "<a href=\"https://colab.research.google.com/github/ssiddiqa/Django-Practice/blob/main/PracticeOct31_IT20001.ipynb\" target=\"_parent\"><img src=\"https://colab.research.google.com/assets/colab-badge.svg\" alt=\"Open In Colab\"/></a>"
      ]
    },
    {
      "cell_type": "code",
      "execution_count": 3,
      "metadata": {
        "colab": {
          "base_uri": "https://localhost:8080/"
        },
        "id": "P1o-oFel60E3",
        "outputId": "78d1ea12-1af3-4eb2-a36e-fdadcfd020d4"
      },
      "outputs": [
        {
          "output_type": "stream",
          "name": "stdout",
          "text": [
            "(3, 3)\n",
            "The array: \n",
            "1 2 3 \n",
            "4 5 6 \n",
            "7 8 9 \n"
          ]
        }
      ],
      "source": [
        "import numpy as np\n",
        "\n",
        "array_3d = np.array([\n",
        "    [1, 2, 3], [4, 5, 6], [7, 8, 9]\n",
        "])\n",
        "print(array_3d.shape)\n",
        "\n",
        "print(\"The array: \")\n",
        "for i in array_3d:\n",
        "  for j in i:\n",
        "    print(j, end=\" \")\n",
        "  print()"
      ]
    },
    {
      "cell_type": "code",
      "source": [
        "import numpy as np\n",
        "array = np.array([\n",
        "    [[1, 2, 3 ], [4, 5, 6],[7, 8, 9]],\n",
        "    [[4, 5, 6], [7, 8, 9], [1, 2, 3]]\n",
        "])\n",
        "print(array.shape)\n",
        "print(\"The array: \")\n",
        "for i in array:\n",
        "  for j in i:\n",
        "    for k in j:\n",
        "      print(k, end=\" \")\n",
        "    print()\n",
        "  print()"
      ],
      "metadata": {
        "colab": {
          "base_uri": "https://localhost:8080/"
        },
        "id": "g9sScMSa6_Tu",
        "outputId": "70de5469-1a5c-4da4-dbf2-6f9636879aea"
      },
      "execution_count": 4,
      "outputs": [
        {
          "output_type": "stream",
          "name": "stdout",
          "text": [
            "(2, 3, 3)\n",
            "The array: \n",
            "1 2 3 \n",
            "4 5 6 \n",
            "7 8 9 \n",
            "\n",
            "4 5 6 \n",
            "7 8 9 \n",
            "1 2 3 \n",
            "\n"
          ]
        }
      ]
    },
    {
      "cell_type": "code",
      "source": [],
      "metadata": {
        "id": "C5V1AMb58odg"
      },
      "execution_count": null,
      "outputs": []
    }
  ]
}