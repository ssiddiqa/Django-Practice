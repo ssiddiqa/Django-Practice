{
  "nbformat": 4,
  "nbformat_minor": 0,
  "metadata": {
    "colab": {
      "provenance": [],
      "authorship_tag": "ABX9TyMiUFwU4muo1NaIVeS+WGzz",
      "include_colab_link": true
    },
    "kernelspec": {
      "name": "python3",
      "display_name": "Python 3"
    },
    "language_info": {
      "name": "python"
    }
  },
  "cells": [
    {
      "cell_type": "markdown",
      "metadata": {
        "id": "view-in-github",
        "colab_type": "text"
      },
      "source": [
        "<a href=\"https://colab.research.google.com/github/ssiddiqa/Django-Practice/blob/main/PracticeOct31_IT20001.ipynb\" target=\"_parent\"><img src=\"https://colab.research.google.com/assets/colab-badge.svg\" alt=\"Open In Colab\"/></a>"
      ]
    },
    {
      "cell_type": "code",
      "execution_count": 1,
      "metadata": {
        "colab": {
          "base_uri": "https://localhost:8080/"
        },
        "id": "P1o-oFel60E3",
        "outputId": "068362eb-8b4b-40ab-a20f-a4ec24fb86b5"
      },
      "outputs": [
        {
          "output_type": "stream",
          "name": "stdout",
          "text": [
            "(3, 3)\n",
            "The array: \n",
            "1 2 3 \n",
            "4 5 6 \n",
            "7 8 9 \n"
          ]
        }
      ],
      "source": [
        "import numpy as np\n",
        "\n",
        "array_3d = np.array([\n",
        "    [1, 2, 3], [4, 5, 6], [7, 8, 9]\n",
        "])\n",
        "print(array_3d.shape)\n",
        "\n",
        "print(\"The array: \")\n",
        "for i in range(array_3d.shape[0]):\n",
        "    for j in range(array_3d.shape[1]):\n",
        "            print(array_3d[i, j], end=\" \")\n",
        "    print()"
      ]
    },
    {
      "cell_type": "code",
      "source": [
        "import numpy as np\n",
        "array = np.array([\n",
        "    [[1, 2, 3 ], [4, 5, 6],[7, 8, 9]],\n",
        "    [[4, 5, 6], [7, 8, 9], [1, 2, 3]]\n",
        "])\n",
        "print(array.shape)\n",
        "print(\"The array: \")\n",
        "for i in range(array.shape[0]):\n",
        "    print()\n",
        "    for j in range(array.shape[1]):\n",
        "        for k in range(array.shape[2]):\n",
        "            print(array[i, j, k], end=\" \")\n",
        "        print()"
      ],
      "metadata": {
        "colab": {
          "base_uri": "https://localhost:8080/"
        },
        "id": "g9sScMSa6_Tu",
        "outputId": "6c6d5913-5d45-4835-bac2-acd2aca41140"
      },
      "execution_count": 2,
      "outputs": [
        {
          "output_type": "stream",
          "name": "stdout",
          "text": [
            "(2, 3, 3)\n",
            "The array: \n",
            "\n",
            "1 2 3 \n",
            "4 5 6 \n",
            "7 8 9 \n",
            "\n",
            "4 5 6 \n",
            "7 8 9 \n",
            "1 2 3 \n"
          ]
        }
      ]
    }
  ]
}