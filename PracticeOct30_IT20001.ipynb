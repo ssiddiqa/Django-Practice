{
  "nbformat": 4,
  "nbformat_minor": 0,
  "metadata": {
    "colab": {
      "provenance": [],
      "authorship_tag": "ABX9TyNmIopXcazMx3nmfn6gbtYo",
      "include_colab_link": true
    },
    "kernelspec": {
      "name": "python3",
      "display_name": "Python 3"
    },
    "language_info": {
      "name": "python"
    }
  },
  "cells": [
    {
      "cell_type": "markdown",
      "metadata": {
        "id": "view-in-github",
        "colab_type": "text"
      },
      "source": [
        "<a href=\"https://colab.research.google.com/github/ssiddiqa/Django-Practice/blob/main/PracticeOct30_IT20001.ipynb\" target=\"_parent\"><img src=\"https://colab.research.google.com/assets/colab-badge.svg\" alt=\"Open In Colab\"/></a>"
      ]
    },
    {
      "cell_type": "code",
      "execution_count": null,
      "metadata": {
        "id": "6W0elHaav_XG"
      },
      "outputs": [],
      "source": [
        "def MBSTU_TotalDept(f_engg,f_ls,others):\n",
        "  total_dept=f_engg+f_ls+others\n",
        "  return total_dept"
      ]
    },
    {
      "cell_type": "code",
      "source": [
        "f_engg=int(input(\"Enter no of Dept of f_engg: \"))\n",
        "f_ls=int(input(\"Enter no of Dept of f_ls: \"))\n",
        "others=int(input(\"Enter no of Dept of others:\"))\n",
        "total=MBSTU_TotalDept(f_engg,f_ls,others)\n",
        "print(\"Total Dept of MBSTU: \",total)"
      ],
      "metadata": {
        "colab": {
          "base_uri": "https://localhost:8080/"
        },
        "id": "JLtaMAcQxH_U",
        "outputId": "b744b0d6-153c-41c6-c0de-8d33384edb62"
      },
      "execution_count": null,
      "outputs": [
        {
          "output_type": "stream",
          "name": "stdout",
          "text": [
            "Enter no of Dept of f_engg: 3\n",
            "Enter no of Dept of f_ls: 4\n",
            "Enter no of Dept of others:5\n",
            "Total Dept of MBSTU:  12\n"
          ]
        }
      ]
    },
    {
      "cell_type": "code",
      "source": [
        "def SeriesSum(n):\n",
        "  sum = (n*(n+1))/2\n",
        "  return sum\n",
        "\n",
        "n=int(input(\"Enter the value of n: \"))\n",
        "sum=SeriesSum(n)\n",
        "print(\"Sum of Series: \",sum)"
      ],
      "metadata": {
        "colab": {
          "base_uri": "https://localhost:8080/"
        },
        "id": "PJ_ChMz0100Q",
        "outputId": "06bdcfec-a2f1-4ab2-f627-92d005f7d32a"
      },
      "execution_count": null,
      "outputs": [
        {
          "output_type": "stream",
          "name": "stdout",
          "text": [
            "Enter the value of n: 5\n",
            "Sum of Series:  15.0\n"
          ]
        }
      ]
    },
    {
      "cell_type": "code",
      "source": [
        "import numpy as np\n",
        "\n",
        "array_3d = np.array([\n",
        "    [1, 2, 3], [4, 5, 6], [7, 8, 9]\n",
        "])\n",
        "print(array_3d.shape)\n",
        "\n",
        "print(\"The array: \")\n",
        "for i in range(array_3d.shape[0]):\n",
        "    for j in range(array_3d.shape[1]):\n",
        "            print(array_3d[i, j], end=\" \")\n",
        "    print()\n"
      ],
      "metadata": {
        "colab": {
          "base_uri": "https://localhost:8080/"
        },
        "id": "XBytEmQC3GHS",
        "outputId": "708dd325-2587-4cd0-983a-94fb59bc539a"
      },
      "execution_count": 13,
      "outputs": [
        {
          "output_type": "stream",
          "name": "stdout",
          "text": [
            "(3, 3)\n",
            "The array: \n",
            "1 2 3 \n",
            "4 5 6 \n",
            "7 8 9 \n"
          ]
        }
      ]
    },
    {
      "cell_type": "code",
      "source": [
        "import numpy as np\n",
        "array = np.array([\n",
        "    [[1, 2, 3 ], [4, 5, 6],[7, 8, 9]],\n",
        "    [[4, 5, 6], [7, 8, 9], [1, 2, 3]]\n",
        "])\n",
        "print(array.shape)\n",
        "print(\"The array: \")\n",
        "for i in range(array.shape[0]):\n",
        "    print()\n",
        "    for j in range(array.shape[1]):\n",
        "        for k in range(array.shape[2]):\n",
        "            print(array[i, j, k], end=\" \")\n",
        "        print()\n",
        ""
      ],
      "metadata": {
        "colab": {
          "base_uri": "https://localhost:8080/"
        },
        "id": "vMBMxOu34YPt",
        "outputId": "fb46889b-b283-415f-baf7-ff587c798fda"
      },
      "execution_count": 26,
      "outputs": [
        {
          "output_type": "stream",
          "name": "stdout",
          "text": [
            "(2, 3, 3)\n",
            "The array: \n",
            "\n",
            "1 2 3 \n",
            "4 5 6 \n",
            "7 8 9 \n",
            "\n",
            "4 5 6 \n",
            "7 8 9 \n",
            "1 2 3 \n"
          ]
        }
      ]
    }
  ]
}